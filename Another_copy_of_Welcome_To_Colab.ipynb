{
  "cells": [
    {
      "cell_type": "markdown",
      "metadata": {
        "id": "view-in-github",
        "colab_type": "text"
      },
      "source": [
        "<a href=\"https://colab.research.google.com/github/aakashaliraza/aakashaliraza/blob/main/Another_copy_of_Welcome_To_Colab.ipynb\" target=\"_parent\"><img src=\"https://colab.research.google.com/assets/colab-badge.svg\" alt=\"Open In Colab\"/></a>"
      ]
    },
    {
      "cell_type": "code",
      "source": [
        "!pip install -Uq langchain==0.3.13 langchain-google-genai python-dotenv\n",
        "\n",
        "import os\n",
        "import sqlite3\n",
        "from google.colab import userdata\n",
        "from langchain.chains import ConversationChain\n",
        "from langchain.memory import ConversationBufferMemory\n",
        "from langchain.prompts import PromptTemplate\n",
        "from langchain_google_genai import ChatGoogleGenerativeAI\n",
        "llm = ChatGoogleGenerativeAI(model=\"gemini-2.0-flash-exp\", api_key=api_key, temperature=0.7, max_output_tokens=1024)\n",
        "\n",
        "# Initialize Database (SQLite in this example)\n",
        "db_path = \"conversation_history.db\"\n",
        "conn = sqlite3.connect(db_path)\n",
        "cursor = conn.cursor()\n",
        "\n",
        "cursor.execute('''\n",
        "    CREATE TABLE IF NOT EXISTS conversations (\n",
        "        id INTEGER PRIMARY KEY AUTOINCREMENT,\n",
        "        user_input TEXT,\n",
        "        assistant_response TEXT\n",
        "    )\n",
        "''')\n",
        "conn.commit()\n",
        "\n",
        "# Fetch API key\n",
        "api_key = os.getenv(\"GOOGLE_API_KEY\") or userdata.get(\"GOOGLE_API_KEY\")\n",
        "if not api_key:\n",
        "    raise ValueError(\"GOOGLE_API_KEY not found. Please set the environment variable or in userdata.\")\n",
        "\n",
        "# Initialize LLM and conversation chain\n",
        "llm = ChatGoogleGenerativeAI(model=\"gemini-2.0-flash-exp\", api_key=api_key, temperature=0.7, max_output_tokens=256)\n",
        "memory = ConversationBufferMemory()\n",
        "\n",
        "# Prompt template\n",
        "prompt_template = PromptTemplate(\n",
        "    input_variables=[\"history\", \"input\"],\n",
        "    template=\"You are a helpful chat assistant. You can access past conversation history from the database.\\n{history}User: {input}\\nAssistant:\"\n",
        ")\n",
        "\n",
        "conversation = ConversationChain(llm=llm, memory=memory, prompt=prompt_template)\n",
        "\n",
        "# Main conversation loop\n",
        "while True:\n",
        "    user_input = input(\"You: \")\n",
        "    if user_input.lower() == \"exit\":\n",
        "        break\n",
        "\n",
        "    try:\n",
        "        # Generate response and save to DB\n",
        "        response = conversation.predict(input=user_input)\n",
        "        print(f\"Assistant: {response}\")\n",
        "        cursor.execute(\"INSERT INTO conversations (user_input, assistant_response) VALUES (?, ?)\", (user_input, response))\n",
        "        conn.commit()\n",
        "    except Exception as e:\n",
        "        print(f\"An error occurred: {e}\")\n",
        "\n",
        "# Print conversation history\n",
        "cursor.execute(\"SELECT user_input, assistant_response FROM conversations\")\n",
        "history_from_db = cursor.fetchall()\n",
        "print(\"\\nFull conversation history (from database):\")\n",
        "for user_input, assistant_response in history_from_db:\n",
        "    print(f\"User: {user_input}\\nAssistant: {assistant_response}\")\n",
        "\n",
        "conn.close()\n"
      ],
      "metadata": {
        "colab": {
          "base_uri": "https://localhost:8080/"
        },
        "id": "zhSWcYO_2kY0",
        "outputId": "226370ee-afad-4b96-e697-661ae8496bfa"
      },
      "execution_count": null,
      "outputs": [
        {
          "output_type": "stream",
          "name": "stdout",
          "text": [
            "\u001b[33mWARNING: Ignoring invalid distribution -angchain (/usr/local/lib/python3.10/dist-packages)\u001b[0m\u001b[33m\n",
            "\u001b[0m\u001b[33mWARNING: Ignoring invalid distribution -angchain (/usr/local/lib/python3.10/dist-packages)\u001b[0m\u001b[33m\n",
            "\u001b[0m"
          ]
        }
      ]
    }
  ],
  "metadata": {
    "colab": {
      "provenance": [],
      "include_colab_link": true
    },
    "kernelspec": {
      "display_name": "Python 3",
      "name": "python3"
    }
  },
  "nbformat": 4,
  "nbformat_minor": 0
}